{
 "cells": [
  {
   "cell_type": "markdown",
   "id": "a7829a98-082e-4fba-b882-9eb2880f5878",
   "metadata": {},
   "source": [
    "## Imports"
   ]
  },
  {
   "cell_type": "code",
   "execution_count": 1,
   "id": "d554613d-a2c9-4cb6-a70f-a23c2d0f7c58",
   "metadata": {
    "tags": []
   },
   "outputs": [],
   "source": [
    "# Installed\n",
    "import sys\n",
    "import obspy\n",
    "import numpy as np\n",
    "import matplotlib.pyplot as plt\n",
    "\n",
    "# Local\n",
    "sys.path.append('..')\n",
    "import madpy.duration as dur\n",
    "import madpy.amplitude as amp\n",
    "from madpy.plotting import params"
   ]
  },
  {
   "cell_type": "code",
   "execution_count": 2,
   "id": "b8db146e-0fa9-41c7-b83f-4c0815c45a54",
   "metadata": {
    "tags": []
   },
   "outputs": [],
   "source": [
    "st_amp = obspy.read('amp.mseed', format='MSEED')\n",
    "for tr in st_amp:\n",
    "    tr.stats.o = obspy.UTCDateTime('2013-09-01T09:45:36.83')\n",
    "    tr.stats.p = 6.5944\n",
    "    tr.stats.s = 10.6356\n",
    "    tr.data = tr.data * 1e3 # convert from m to mm"
   ]
  },
  {
   "cell_type": "code",
   "execution_count": 3,
   "id": "2bad5acd-cd87-46f1-bd3a-84f4e354c4f7",
   "metadata": {
    "tags": []
   },
   "outputs": [],
   "source": [
    "df_amp = amp.measure_amplitude(st_amp.copy())"
   ]
  },
  {
   "cell_type": "code",
   "execution_count": 4,
   "id": "67680e76-31cc-429d-92fb-581f1302b85a",
   "metadata": {
    "tags": []
   },
   "outputs": [
    {
     "data": {
      "text/html": [
       "<div>\n",
       "<style scoped>\n",
       "    .dataframe tbody tr th:only-of-type {\n",
       "        vertical-align: middle;\n",
       "    }\n",
       "\n",
       "    .dataframe tbody tr th {\n",
       "        vertical-align: top;\n",
       "    }\n",
       "\n",
       "    .dataframe thead th {\n",
       "        text-align: right;\n",
       "    }\n",
       "</style>\n",
       "<table border=\"1\" class=\"dataframe\">\n",
       "  <thead>\n",
       "    <tr style=\"text-align: right;\">\n",
       "      <th></th>\n",
       "      <th>date</th>\n",
       "      <th>time</th>\n",
       "      <th>network</th>\n",
       "      <th>station</th>\n",
       "      <th>channel</th>\n",
       "      <th>amplitude</th>\n",
       "      <th>noise</th>\n",
       "    </tr>\n",
       "  </thead>\n",
       "  <tbody>\n",
       "    <tr>\n",
       "      <th>0</th>\n",
       "      <td>2013-09-01</td>\n",
       "      <td>09:45:36.83</td>\n",
       "      <td>WY</td>\n",
       "      <td>YNR</td>\n",
       "      <td>HHE</td>\n",
       "      <td>1.705176</td>\n",
       "      <td>0.010126</td>\n",
       "    </tr>\n",
       "  </tbody>\n",
       "</table>\n",
       "</div>"
      ],
      "text/plain": [
       "         date         time network station channel  amplitude     noise\n",
       "0  2013-09-01  09:45:36.83      WY     YNR     HHE   1.705176  0.010126"
      ]
     },
     "execution_count": 4,
     "metadata": {},
     "output_type": "execute_result"
    }
   ],
   "source": [
    "df_amp.head()"
   ]
  },
  {
   "cell_type": "code",
   "execution_count": 5,
   "id": "1ad3bd70-d8ed-4500-91f2-3c454508f50f",
   "metadata": {
    "tags": []
   },
   "outputs": [],
   "source": [
    "st_dur = obspy.read('dur.mseed', format='MSEED')\n",
    "for tr in st_dur:\n",
    "    tr.stats.o = obspy.UTCDateTime('2013-09-01T09:45:36.83')\n",
    "    tr.stats.p = 6.5944\n",
    "    tr.stats.s = 10.6356\n",
    "    tr.detrend('demean')\n",
    "    tr.taper(max_percentage=0.05)\n",
    "    tr.filter('bandpass', freqmin=1, freqmax=8)"
   ]
  },
  {
   "cell_type": "code",
   "execution_count": 6,
   "id": "ef51b4d2-95c1-4d1d-a5b0-77a37b68d174",
   "metadata": {},
   "outputs": [],
   "source": [
    "df_dur = dur.measure_duration(st_dur.copy())"
   ]
  },
  {
   "cell_type": "code",
   "execution_count": 7,
   "id": "5bd6f3e9-1e21-4024-a5b9-d889de178b33",
   "metadata": {},
   "outputs": [
    {
     "data": {
      "text/html": [
       "<div>\n",
       "<style scoped>\n",
       "    .dataframe tbody tr th:only-of-type {\n",
       "        vertical-align: middle;\n",
       "    }\n",
       "\n",
       "    .dataframe tbody tr th {\n",
       "        vertical-align: top;\n",
       "    }\n",
       "\n",
       "    .dataframe thead th {\n",
       "        text-align: right;\n",
       "    }\n",
       "</style>\n",
       "<table border=\"1\" class=\"dataframe\">\n",
       "  <thead>\n",
       "    <tr style=\"text-align: right;\">\n",
       "      <th></th>\n",
       "      <th>date</th>\n",
       "      <th>time</th>\n",
       "      <th>network</th>\n",
       "      <th>station</th>\n",
       "      <th>channel</th>\n",
       "      <th>duration</th>\n",
       "      <th>cc</th>\n",
       "      <th>noise</th>\n",
       "    </tr>\n",
       "  </thead>\n",
       "  <tbody>\n",
       "    <tr>\n",
       "      <th>0</th>\n",
       "      <td>2013-09-01</td>\n",
       "      <td>09:45:36.83</td>\n",
       "      <td>WY</td>\n",
       "      <td>YNR</td>\n",
       "      <td>HHZ</td>\n",
       "      <td>66.669</td>\n",
       "      <td>-0.899341</td>\n",
       "      <td>-7.735325</td>\n",
       "    </tr>\n",
       "  </tbody>\n",
       "</table>\n",
       "</div>"
      ],
      "text/plain": [
       "         date         time network station channel  duration        cc  \\\n",
       "0  2013-09-01  09:45:36.83      WY     YNR     HHZ    66.669 -0.899341   \n",
       "\n",
       "      noise  \n",
       "0 -7.735325  "
      ]
     },
     "execution_count": 7,
     "metadata": {},
     "output_type": "execute_result"
    }
   ],
   "source": [
    "df_dur.head()"
   ]
  }
 ],
 "metadata": {
  "kernelspec": {
   "display_name": "mlmc-calib",
   "language": "python",
   "name": "mlmc-calib"
  },
  "language_info": {
   "codemirror_mode": {
    "name": "ipython",
    "version": 3
   },
   "file_extension": ".py",
   "mimetype": "text/x-python",
   "name": "python",
   "nbconvert_exporter": "python",
   "pygments_lexer": "ipython3",
   "version": "3.10.2"
  }
 },
 "nbformat": 4,
 "nbformat_minor": 5
}
